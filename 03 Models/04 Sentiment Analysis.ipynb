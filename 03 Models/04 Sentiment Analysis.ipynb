{
 "cells": [
  {
   "cell_type": "markdown",
   "source": [
    "## From ChatGPT"
   ],
   "metadata": {
    "collapsed": false
   },
   "id": "9b3aa55d6b7ae293"
  },
  {
   "cell_type": "code",
   "execution_count": 8,
   "id": "initial_id",
   "metadata": {
    "collapsed": true,
    "ExecuteTime": {
     "end_time": "2024-04-02T15:54:52.605211500Z",
     "start_time": "2024-04-02T15:54:52.578505400Z"
    }
   },
   "outputs": [],
   "source": [
    "import json\n",
    "\n",
    "data = [\n",
    "  {\"text\": \"This product is amazing! I love it so much.\", \"rating\": 5},\n",
    "  {\"text\": \"The quality of this product is terrible. Do not buy it.\", \"rating\": 1},\n",
    "  {\"text\": \"It works exactly as described. Very satisfied.\", \"rating\": 5},\n",
    "  {\"text\": \"Waste of money. Some features are amazing. Could improve\", \"rating\": 3},\n",
    "  {\"text\": \"I'm completely disappointed with this purchase.\", \"rating\": 1},\n",
    "  {\"text\": \"Great value for the price. Highly recommend.\", \"rating\": 4}\n",
    "]\n"
   ]
  },
  {
   "cell_type": "code",
   "execution_count": 3,
   "outputs": [],
   "source": [
    "from transformers import DistilBertTokenizer, DistilBertForSequenceClassification\n",
    "\n",
    "# Load the fine-tuned model from Hugging Face\n",
    "model_name = \"sohan-ai/sentiment-analysis-model-amazon-reviews\"\n",
    "tokenizer = DistilBertTokenizer.from_pretrained(\"distilbert-base-uncased\")\n",
    "model = DistilBertForSequenceClassification.from_pretrained(model_name)"
   ],
   "metadata": {
    "collapsed": false,
    "ExecuteTime": {
     "end_time": "2024-04-02T15:53:54.740730700Z",
     "start_time": "2024-04-02T15:53:51.827420300Z"
    }
   },
   "id": "8072fa24fb2fc7ea"
  },
  {
   "cell_type": "code",
   "execution_count": 9,
   "outputs": [
    {
     "name": "stdout",
     "output_type": "stream",
     "text": [
      "Waste of money. Some features are amazing. Could improve\n",
      "SequenceClassifierOutput(loss=None, logits=tensor([[ 4.4067, -4.1569]], grad_fn=<AddmmBackward0>), hidden_states=None, attentions=None)\n",
      "Predicted sentiment: negative\n"
     ]
    }
   ],
   "source": [
    "# Tokenize input text\n",
    "text = data[3]['text']\n",
    "\n",
    "print(text)\n",
    "\n",
    "inputs = tokenizer(text, return_tensors=\"pt\")\n",
    "\n",
    "# Make prediction\n",
    "outputs = model(**inputs)\n",
    "\n",
    "print(outputs)\n",
    "\n",
    "predicted_label = \"positive\" if outputs.logits.argmax().item() == 1 else \"negative\"\n",
    "\n",
    "print(f\"Predicted sentiment: {predicted_label}\")"
   ],
   "metadata": {
    "collapsed": false,
    "ExecuteTime": {
     "end_time": "2024-04-02T15:55:01.924747Z",
     "start_time": "2024-04-02T15:55:01.841716200Z"
    }
   },
   "id": "fc4c2ac1523f255a"
  },
  {
   "cell_type": "markdown",
   "source": [
    "## Review Summarizer"
   ],
   "metadata": {
    "collapsed": false
   },
   "id": "a85eb5a64a222200"
  },
  {
   "cell_type": "code",
   "execution_count": 11,
   "outputs": [
    {
     "name": "stdout",
     "output_type": "stream",
     "text": [
      "WARNING:tensorflow:From C:\\Users\\likhi\\Documents\\01 Pycharm Code Folder\\edhec\\Lib\\site-packages\\keras\\src\\losses.py:2976: The name tf.losses.sparse_softmax_cross_entropy is deprecated. Please use tf.compat.v1.losses.sparse_softmax_cross_entropy instead.\n"
     ]
    },
    {
     "data": {
      "text/plain": "config.json:   0%|          | 0.00/1.66k [00:00<?, ?B/s]",
      "application/vnd.jupyter.widget-view+json": {
       "version_major": 2,
       "version_minor": 0,
       "model_id": "963d0f193c51426694d489fa4a219f9b"
      }
     },
     "metadata": {},
     "output_type": "display_data"
    },
    {
     "name": "stderr",
     "output_type": "stream",
     "text": [
      "C:\\Users\\likhi\\Documents\\01 Pycharm Code Folder\\edhec\\Lib\\site-packages\\huggingface_hub\\file_download.py:149: UserWarning: `huggingface_hub` cache-system uses symlinks by default to efficiently store duplicated files but your machine does not support them in C:\\Users\\likhi\\.cache\\huggingface\\hub\\models--mabrouk--amazon-review-summarizer-bart. Caching files will still work but in a degraded version that might require more space on your disk. This warning can be disabled by setting the `HF_HUB_DISABLE_SYMLINKS_WARNING` environment variable. For more details, see https://huggingface.co/docs/huggingface_hub/how-to-cache#limitations.\n",
      "To support symlinks on Windows, you either need to activate Developer Mode or to run Python as an administrator. In order to see activate developer mode, see this article: https://docs.microsoft.com/en-us/windows/apps/get-started/enable-your-device-for-development\n",
      "  warnings.warn(message)\n"
     ]
    },
    {
     "data": {
      "text/plain": "pytorch_model.bin:   0%|          | 0.00/1.63G [00:00<?, ?B/s]",
      "application/vnd.jupyter.widget-view+json": {
       "version_major": 2,
       "version_minor": 0,
       "model_id": "5fc77182d28b4a0c9773965f1b0f7430"
      }
     },
     "metadata": {},
     "output_type": "display_data"
    },
    {
     "name": "stderr",
     "output_type": "stream",
     "text": [
      "Error while downloading from https://cdn-lfs.huggingface.co/repos/27/ac/27acd8017d9c7b20f4b2b4f5b7fe708543a53c14f415f4b101ac3b071492c48f/87ba79fe0c5506fda83f041e8c456e7f62d858d962306139ab05e2e5dd19dc68?response-content-disposition=attachment%3B+filename*%3DUTF-8%27%27pytorch_model.bin%3B+filename%3D%22pytorch_model.bin%22%3B&response-content-type=application%2Foctet-stream&Expires=1712332819&Policy=eyJTdGF0ZW1lbnQiOlt7IkNvbmRpdGlvbiI6eyJEYXRlTGVzc1RoYW4iOnsiQVdTOkVwb2NoVGltZSI6MTcxMjMzMjgxOX19LCJSZXNvdXJjZSI6Imh0dHBzOi8vY2RuLWxmcy5odWdnaW5nZmFjZS5jby9yZXBvcy8yNy9hYy8yN2FjZDgwMTdkOWM3YjIwZjRiMmI0ZjViN2ZlNzA4NTQzYTUzYzE0ZjQxNWY0YjEwMWFjM2IwNzE0OTJjNDhmLzg3YmE3OWZlMGM1NTA2ZmRhODNmMDQxZThjNDU2ZTdmNjJkODU4ZDk2MjMwNjEzOWFiMDVlMmU1ZGQxOWRjNjg%7EcmVzcG9uc2UtY29udGVudC1kaXNwb3NpdGlvbj0qJnJlc3BvbnNlLWNvbnRlbnQtdHlwZT0qIn1dfQ__&Signature=H88HReBPUBnY4JZ-LxNSbN85hKcLBSydXXYsq04gGEr58X5UAlWqAE3M90fyvkzeqjJmNFKqFpET8TWBfG7fqmip-DwQR9G1F6%7E0TJxbhoX1jpsUgXaMZrXpG%7EiKKMhNw7wbagHGUwq5j3w7Sz3iK1Px4yeX-BJ3yMmgxD9ZUaQBMd2ioYFz5XZHckIp2GTKaYQCFoFFVAlXC9iBlBe9HkIAdvlUHbv0mKlVZWg5RGwxtLiVZCNn4hvjfxkg9fToqKKJpMlXp1gwi2mCtuOTVhPkJyZJP48wUVJ5ieuFJSYN6bdg2IgSnaLgDZOqVJuWucJsbn-8lDodNY%7EmfylKnQ__&Key-Pair-Id=KVTP0A1DKRTAX: HTTPSConnectionPool(host='cdn-lfs.huggingface.co', port=443): Read timed out.\n",
      "Trying to resume download...\n"
     ]
    },
    {
     "data": {
      "text/plain": "pytorch_model.bin:  91%|######### | 1.48G/1.63G [00:00<?, ?B/s]",
      "application/vnd.jupyter.widget-view+json": {
       "version_major": 2,
       "version_minor": 0,
       "model_id": "09aabe1c7c054c43b970a4c7b9ef6436"
      }
     },
     "metadata": {},
     "output_type": "display_data"
    },
    {
     "data": {
      "text/plain": "tokenizer_config.json:   0%|          | 0.00/389 [00:00<?, ?B/s]",
      "application/vnd.jupyter.widget-view+json": {
       "version_major": 2,
       "version_minor": 0,
       "model_id": "67523374b7314cafaddddee7f75d59e7"
      }
     },
     "metadata": {},
     "output_type": "display_data"
    },
    {
     "data": {
      "text/plain": "vocab.json:   0%|          | 0.00/798k [00:00<?, ?B/s]",
      "application/vnd.jupyter.widget-view+json": {
       "version_major": 2,
       "version_minor": 0,
       "model_id": "3b5e88065ad240bcaa267fdf68f29842"
      }
     },
     "metadata": {},
     "output_type": "display_data"
    },
    {
     "data": {
      "text/plain": "merges.txt:   0%|          | 0.00/456k [00:00<?, ?B/s]",
      "application/vnd.jupyter.widget-view+json": {
       "version_major": 2,
       "version_minor": 0,
       "model_id": "c775f360410941f7ba58eee3891f08d0"
      }
     },
     "metadata": {},
     "output_type": "display_data"
    },
    {
     "data": {
      "text/plain": "tokenizer.json:   0%|          | 0.00/2.11M [00:00<?, ?B/s]",
      "application/vnd.jupyter.widget-view+json": {
       "version_major": 2,
       "version_minor": 0,
       "model_id": "d1638812400b437392ab00caa644b9ec"
      }
     },
     "metadata": {},
     "output_type": "display_data"
    },
    {
     "data": {
      "text/plain": "special_tokens_map.json:   0%|          | 0.00/280 [00:00<?, ?B/s]",
      "application/vnd.jupyter.widget-view+json": {
       "version_major": 2,
       "version_minor": 0,
       "model_id": "c854d1f726f24b4499111acb77ea71d6"
      }
     },
     "metadata": {},
     "output_type": "display_data"
    }
   ],
   "source": [
    "from transformers import pipeline\n",
    "summarizer = pipeline(\"summarization\", model=\"mabrouk/amazon-review-summarizer-bart\")\n",
    "review = \"\"\" I really like this book. It takes a step-by-step approach to introduce the reader to the IBM Q Experience, to the basics underlying quantum computing, and to the reality of the noise involved in the current machines. This introduction is technical and shows the user how to use the IBM system either directly through the GUI on their website or by running Python code on one's own machine. The text provides examples of small exercises to try and stimulates ideas of new things to try. The IBM Q Exp Qiskit software modules are identified and introduced - Terra, Aer, Ignis, and Aqua, as well as the backends that one can choose to do the computing. The book ends with two great chapters on quantum algorithms.\n",
    "\"\"\""
   ],
   "metadata": {
    "collapsed": false,
    "ExecuteTime": {
     "end_time": "2024-04-02T16:45:44.550542500Z",
     "start_time": "2024-04-02T15:59:36.852905800Z"
    }
   },
   "id": "8ca4f512023f4c37"
  },
  {
   "cell_type": "code",
   "execution_count": 12,
   "outputs": [
    {
     "name": "stdout",
     "output_type": "stream",
     "text": [
      "[{'summary_text': 'I really like this book. It takes a step-by-step approach to introduce the reader to the IBM Q Experience, to the basics underlying quantum computing, and to the reality of the noise involved in the current machines. The book ends with two great chapters on quantum algorithms.'}]\n"
     ]
    }
   ],
   "source": [
    "print(summarizer(review, min_length = 60))"
   ],
   "metadata": {
    "collapsed": false,
    "ExecuteTime": {
     "end_time": "2024-04-02T16:45:56.881613700Z",
     "start_time": "2024-04-02T16:45:44.592921900Z"
    }
   },
   "id": "cb892bd12b4bdf52"
  },
  {
   "cell_type": "code",
   "execution_count": null,
   "outputs": [],
   "source": [],
   "metadata": {
    "collapsed": false
   },
   "id": "aedb53bcd7a3d1fd"
  }
 ],
 "metadata": {
  "kernelspec": {
   "display_name": "Python 3",
   "language": "python",
   "name": "python3"
  },
  "language_info": {
   "codemirror_mode": {
    "name": "ipython",
    "version": 2
   },
   "file_extension": ".py",
   "mimetype": "text/x-python",
   "name": "python",
   "nbconvert_exporter": "python",
   "pygments_lexer": "ipython2",
   "version": "2.7.6"
  }
 },
 "nbformat": 4,
 "nbformat_minor": 5
}
