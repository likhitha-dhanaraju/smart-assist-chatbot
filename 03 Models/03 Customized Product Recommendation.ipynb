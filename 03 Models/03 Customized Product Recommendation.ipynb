{
 "cells": [
  {
   "cell_type": "code",
   "execution_count": 61,
   "id": "initial_id",
   "metadata": {
    "collapsed": true,
    "ExecuteTime": {
     "end_time": "2024-05-08T11:43:01.502760200Z",
     "start_time": "2024-05-08T11:43:01.485334500Z"
    }
   },
   "outputs": [],
   "source": [
    "import requests\n",
    "from bs4 import BeautifulSoup\n",
    "from fake_useragent import UserAgent\n",
    "\n",
    "import re\n",
    "import random\n",
    "import time\n",
    "from tqdm import tqdm\n",
    "import importlib\n",
    "import utils.amazon_scrapper_for_product_recommendation\n",
    "import numpy as np\n",
    "import pandas as pd\n",
    "import json\n",
    "\n",
    "importlib.reload(utils.amazon_scrapper_for_product_recommendation)\n",
    "from utils.amazon_scrapper_for_product_recommendation import amazon_scrapping\n",
    "\n",
    "from sentence_transformers import SentenceTransformer\n",
    "from sklearn.metrics.pairwise import cosine_similarity"
   ]
  },
  {
   "cell_type": "code",
   "execution_count": 20,
   "outputs": [],
   "source": [
    "def get_proxies():\n",
    "    ua=UserAgent()\n",
    "    headers = {'User-Agent':ua.random}\n",
    "    url='https://free-proxy-list.net/'\n",
    "\n",
    "    r=requests.get(url,headers=headers)\n",
    "    page = BeautifulSoup(r.text, 'html.parser')\n",
    "\n",
    "    proxies=[]\n",
    "\n",
    "    for proxy in page.find_all('tr'):\n",
    "        i=ip=port=0\n",
    "\n",
    "        for data in proxy.find_all('td'):\n",
    "            if i==0:\n",
    "                ip=data.get_text()\n",
    "            if i==1:\n",
    "                port=data.get_text()\n",
    "            i+=1\n",
    "    \n",
    "        if ip!=0 and port!=0 and '.' in ip:\n",
    "            proxies+=[{'http':'http://'+ip+':'+port}]\n",
    "\n",
    "    return proxies"
   ],
   "metadata": {
    "collapsed": false,
    "ExecuteTime": {
     "end_time": "2024-05-08T08:18:49.800925800Z",
     "start_time": "2024-05-08T08:18:49.781361600Z"
    }
   },
   "id": "5d69b669f0ddd320"
  },
  {
   "cell_type": "code",
   "execution_count": 21,
   "outputs": [],
   "source": [
    "ua = UserAgent()\n",
    "\n",
    "def get_random_headers():\n",
    "        \n",
    "    headers = {\n",
    "        'authority': 'www.amazon.com',\n",
    "        'pragma': 'no-cache',\n",
    "        'cache-control': 'no-cache',\n",
    "        'dnt': '1',\n",
    "        'Connection': 'keep-alive',\n",
    "        'upgrade-insecure-requests': '1',\n",
    "        'user-agent': ua.random,\n",
    "        'accept': 'text/html,application/xhtml+xml,application/xml;q=0.9,image/webp,image/apng,*/*;q=0.8,application/signed-exchange;v=b3;q=0.9',\n",
    "        'sec-fetch-site': 'none',\n",
    "        'sec-fetch-mode': 'navigate',\n",
    "        'sec-fetch-dest': 'document',\n",
    "        'accept-language': 'en-GB,en-US;q=0.9,en;q=0.8',\n",
    "    }\n",
    "    \n",
    "    return headers"
   ],
   "metadata": {
    "collapsed": false,
    "ExecuteTime": {
     "end_time": "2024-05-08T08:18:50.313470600Z",
     "start_time": "2024-05-08T08:18:50.289079100Z"
    }
   },
   "id": "7d25f1ee446a2c60"
  },
  {
   "cell_type": "code",
   "execution_count": 22,
   "outputs": [
    {
     "name": "stdout",
     "output_type": "stream",
     "text": [
      "<Response [200]>\n"
     ]
    }
   ],
   "source": [
    "def search(phrase, headers, proxies_list):\n",
    "    phrase = re.sub(r'[^a-zA-Z0-9]',' ',phrase)\n",
    "    phrase = re.sub(' ','+',phrase)\n",
    "        \n",
    "    url_amazon = 'https://www.amazon.com/s?k={}&ref=nb_sb_noss_2'.format(phrase)\n",
    "\n",
    "    proxies = random.choice(proxies_list)\n",
    "    \n",
    "    try:\n",
    "        source_code = requests.get(url_amazon, headers=headers, proxies=proxies, timeout=10)\n",
    "        # If response status code is 503, wait for a while and retry\n",
    "        if source_code.status_code == 503:\n",
    "            print(\"503 Error. Retrying after 5 seconds...\")\n",
    "            time.sleep(5)\n",
    "            return search(phrase, headers, proxies_list)\n",
    "        source_code.raise_for_status()  # Raise an error for any other HTTP status codes\n",
    "    except Exception as e:\n",
    "        print(\"Error occurred:\", e)\n",
    "        return None\n",
    "    \n",
    "    return source_code, url_amazon\n",
    "\n",
    "proxies_list = get_proxies()\n",
    "headers = get_random_headers()\n",
    "\n",
    "response, url_amazon = search(\"Laptops with 8GB RAM\", headers, proxies_list)\n",
    "\n",
    "if response:\n",
    "    print(response)"
   ],
   "metadata": {
    "collapsed": false,
    "ExecuteTime": {
     "end_time": "2024-05-08T08:18:58.045866100Z",
     "start_time": "2024-05-08T08:18:54.235618400Z"
    }
   },
   "id": "c30c1d6328a70563"
  },
  {
   "cell_type": "code",
   "execution_count": 23,
   "outputs": [
    {
     "name": "stdout",
     "output_type": "stream",
     "text": [
      "https://www.amazon.com/s?k=Laptops+with+8GB+RAM&ref=nb_sb_noss_2\n"
     ]
    }
   ],
   "source": [
    "print(response.url)"
   ],
   "metadata": {
    "collapsed": false,
    "ExecuteTime": {
     "end_time": "2024-05-08T08:18:59.274208700Z",
     "start_time": "2024-05-08T08:18:59.249370600Z"
    }
   },
   "id": "9cdba387e155b6ff"
  },
  {
   "cell_type": "code",
   "execution_count": 24,
   "outputs": [],
   "source": [
    "plain_text = response.text\n",
    "soup = BeautifulSoup(plain_text, \"html.parser\")"
   ],
   "metadata": {
    "collapsed": false,
    "ExecuteTime": {
     "end_time": "2024-05-08T08:19:01.468256800Z",
     "start_time": "2024-05-08T08:19:00.642956500Z"
    }
   },
   "id": "83f6a4a69af183e9"
  },
  {
   "cell_type": "code",
   "execution_count": 110,
   "outputs": [],
   "source": [
    "def product_data_for_recommendation(product_data, similarity_score_column_required):\n",
    "    product_data_overview = product_data['product_overview']\n",
    "    product_data_overview_text = \". \".join([key + \" is \" + value \n",
    "                                            for key,value in product_data_overview.items()])\n",
    "    if type(product_data['description']) == list:\n",
    "        product_description_text = \". \".join(product_data['description'])\n",
    "    else:\n",
    "        product_description_text = product_data['description']\n",
    "        \n",
    "    product_data_title = product_data['Title']\n",
    "    product_data_url = product_data['url']\n",
    "    \n",
    "    final_product_text_for_similarity = product_data_overview_text + \". \" + product_description_text \n",
    "    \n",
    "    if similarity_score_column_required:\n",
    "        final_product_data = {'product_name' : product_data_title.strip(),\n",
    "                              'product_overview': final_product_text_for_similarity.strip(),\n",
    "                              'product_link': product_data_url,\n",
    "                              'product_image_link': image_link['src'],\n",
    "                              'similarity_score': 0}\n",
    "    else:\n",
    "        final_product_data = {'product_name' : product_data_title.strip(),\n",
    "                              'product_overview': final_product_text_for_similarity.strip(),\n",
    "                              'product_link': product_data_url,\n",
    "                              'product_image_link': image_link['src']}\n",
    "    \n",
    "    return final_product_data"
   ],
   "metadata": {
    "collapsed": false,
    "ExecuteTime": {
     "end_time": "2024-05-08T13:06:54.821288500Z",
     "start_time": "2024-05-08T13:06:54.789942900Z"
    }
   },
   "id": "1f79d7dde896f808"
  },
  {
   "cell_type": "code",
   "execution_count": 111,
   "outputs": [
    {
     "name": "stderr",
     "output_type": "stream",
     "text": [
      "22it [02:48,  7.65s/it]\n"
     ]
    }
   ],
   "source": [
    "all_links = []\n",
    "\n",
    "soup = BeautifulSoup(plain_text, \"html.parser\")\n",
    "\n",
    "all_product_links = soup.find_all('a',\n",
    "                    {\"class\":\"a-link-normal s-underline-text s-underline-link-text s-link-style a-text-normal\"})  \n",
    "all_image_links = soup.find_all('img', {\"class\": \"s-image\"})\n",
    "\n",
    "# print(\"Number of products\", len(all_product_links), len(all_image_links))\n",
    "\n",
    "similar_products_df = pd.DataFrame(columns=['product_name', 'product_overview',\n",
    "                                            'product_link', 'product_image_link',\n",
    "                                            'similarity_score'])\n",
    "counter = 0\n",
    "counter_limit = 10\n",
    "\n",
    "for link, image_link in tqdm(zip(all_product_links, all_image_links)): \n",
    "    product_link = \"https://www.amazon.com\" + link['href']\n",
    "    \n",
    "    try:\n",
    "        proxies = random.choice(proxies_list)\n",
    "        headers = get_random_headers()\n",
    "        product_image_url = image_link['src']    \n",
    "        \n",
    "        if not 'www.amazon.comhttps' in product_link:\n",
    "            product_data = amazon_scrapping(product_link, proxies, headers)\n",
    "            \n",
    "            product_data['image_link'] = image_link['src']\n",
    "            \n",
    "            final_product_data = product_data_for_recommendation(product_data,\n",
    "                                                                 similarity_score_column_required=True)\n",
    "            \n",
    "            if len(final_product_data['product_overview']) > 1:\n",
    "                \n",
    "                similar_products_df = pd.concat([ similar_products_df, pd.DataFrame([final_product_data])], axis=0)\n",
    "            \n",
    "                counter += 1\n",
    "                \n",
    "                if counter >= counter_limit:\n",
    "                    break\n",
    "                \n",
    "                \n",
    "    except ConnectionError:\n",
    "        break"
   ],
   "metadata": {
    "collapsed": false,
    "ExecuteTime": {
     "end_time": "2024-05-08T13:09:45.258553200Z",
     "start_time": "2024-05-08T13:06:55.143867600Z"
    }
   },
   "id": "a7bf639e2fcd814c"
  },
  {
   "cell_type": "code",
   "execution_count": 112,
   "outputs": [
    {
     "data": {
      "text/plain": "                                        product_name  \\\n0  VGKE [Windows 11 Home] B15 Windows 11 Laptop w...   \n1  Lenovo Ideapad Laptop (2024) Business Student,...   \n2  Oemgenuine Lenovo ThinkPad E16, WUXGA 16\" IPS,...   \n3  URAO 15.6'' Laptop 8GB DDR4 256GB SSD, Quad-Co...   \n4  OTVOC Laptop 15.6 inch Windows 11, VocBook 15,...   \n5  2021 Newest ASUS VivoBook Ultra Thin and Light...   \n6  Chicbuy 15.6'' Laptop Computer, 8GB RAM Laptop...   \n7  INHONLAP Laptops, 15.6\" FHD IPS Display Laptop...   \n8  URAO 15.6'' Laptop 8GB DDR4 256GB SSD, Quad-Co...   \n9  2021 Newest ASUS VivoBook Ultra Thin and Light...   \n\n                                    product_overview  \\\n0  . Intel Strong Quad-Core: High-performance Int...   \n1  Brand is Lenovo. Model Name is Newest Lenovo 1...   \n2  Brand is Oemgenuine. Model Name is ThinkPad E1...   \n3  . Efficient Performance URAO laptop is equippe...   \n4  . Intel 11th-Gen Quad core processor: With Cel...   \n5  Brand is ASUS. Model Name is ASUS VivoBook. Sc...   \n6  Brand is Chicbuy. Model Name is LT1504. Screen...   \n7  Brand is INHONLAP. Model Name is N15. Screen S...   \n8  Brand is URAO. Model Name is LT1504. Screen Si...   \n9  Brand is ASUS. Model Name is ASUS VivoBook. Sc...   \n\n                                        product_link  \\\n0  https://www.amazon.com/VGKE-B15-Fingerprint-Pr...   \n1  https://www.amazon.com/Lenovo-Laptop-14-HD-Mar...   \n2  https://www.amazon.com/Oemgenuine-ThinkPad-E16...   \n3  https://www.amazon.com/URAO-Quad-Core-Processo...   \n4  https://www.amazon.com/OTVOC-VocBook-15-Expans...   \n5  https://www.amazon.com/ASUS-Touchscreen-Quad-C...   \n6  https://www.amazon.com/Chicbuy-Computer-Proces...   \n7  https://www.amazon.com/INHONLAP-Computers-Quad...   \n8  https://www.amazon.com/URAO-Quad-Core-Processo...   \n9  https://www.amazon.com/ASUS-Touchscreen-Quad-C...   \n\n                                  product_image_link similarity_score  \n0  https://m.media-amazon.com/images/I/61MFntlabu...                0  \n1  https://m.media-amazon.com/images/I/81UGIl1NGR...                0  \n2  https://m.media-amazon.com/images/I/71vLLnhiMJ...                0  \n3  https://m.media-amazon.com/images/I/11++B3A2NE...                0  \n4  https://m.media-amazon.com/images/I/111mHoVK0k...                0  \n5  https://m.media-amazon.com/images/I/611d8eRL+4...                0  \n6  https://m.media-amazon.com/images/I/71Ezvxd+ui...                0  \n7  https://m.media-amazon.com/images/I/71TwgF7rw8...                0  \n8  https://m.media-amazon.com/images/I/81O3TvrFnU...                0  \n9  https://m.media-amazon.com/images/I/71K5Hmg7jM...                0  ",
      "text/html": "<div>\n<style scoped>\n    .dataframe tbody tr th:only-of-type {\n        vertical-align: middle;\n    }\n\n    .dataframe tbody tr th {\n        vertical-align: top;\n    }\n\n    .dataframe thead th {\n        text-align: right;\n    }\n</style>\n<table border=\"1\" class=\"dataframe\">\n  <thead>\n    <tr style=\"text-align: right;\">\n      <th></th>\n      <th>product_name</th>\n      <th>product_overview</th>\n      <th>product_link</th>\n      <th>product_image_link</th>\n      <th>similarity_score</th>\n    </tr>\n  </thead>\n  <tbody>\n    <tr>\n      <th>0</th>\n      <td>VGKE [Windows 11 Home] B15 Windows 11 Laptop w...</td>\n      <td>. Intel Strong Quad-Core: High-performance Int...</td>\n      <td>https://www.amazon.com/VGKE-B15-Fingerprint-Pr...</td>\n      <td>https://m.media-amazon.com/images/I/61MFntlabu...</td>\n      <td>0</td>\n    </tr>\n    <tr>\n      <th>1</th>\n      <td>Lenovo Ideapad Laptop (2024) Business Student,...</td>\n      <td>Brand is Lenovo. Model Name is Newest Lenovo 1...</td>\n      <td>https://www.amazon.com/Lenovo-Laptop-14-HD-Mar...</td>\n      <td>https://m.media-amazon.com/images/I/81UGIl1NGR...</td>\n      <td>0</td>\n    </tr>\n    <tr>\n      <th>2</th>\n      <td>Oemgenuine Lenovo ThinkPad E16, WUXGA 16\" IPS,...</td>\n      <td>Brand is Oemgenuine. Model Name is ThinkPad E1...</td>\n      <td>https://www.amazon.com/Oemgenuine-ThinkPad-E16...</td>\n      <td>https://m.media-amazon.com/images/I/71vLLnhiMJ...</td>\n      <td>0</td>\n    </tr>\n    <tr>\n      <th>3</th>\n      <td>URAO 15.6'' Laptop 8GB DDR4 256GB SSD, Quad-Co...</td>\n      <td>. Efficient Performance URAO laptop is equippe...</td>\n      <td>https://www.amazon.com/URAO-Quad-Core-Processo...</td>\n      <td>https://m.media-amazon.com/images/I/11++B3A2NE...</td>\n      <td>0</td>\n    </tr>\n    <tr>\n      <th>4</th>\n      <td>OTVOC Laptop 15.6 inch Windows 11, VocBook 15,...</td>\n      <td>. Intel 11th-Gen Quad core processor: With Cel...</td>\n      <td>https://www.amazon.com/OTVOC-VocBook-15-Expans...</td>\n      <td>https://m.media-amazon.com/images/I/111mHoVK0k...</td>\n      <td>0</td>\n    </tr>\n    <tr>\n      <th>5</th>\n      <td>2021 Newest ASUS VivoBook Ultra Thin and Light...</td>\n      <td>Brand is ASUS. Model Name is ASUS VivoBook. Sc...</td>\n      <td>https://www.amazon.com/ASUS-Touchscreen-Quad-C...</td>\n      <td>https://m.media-amazon.com/images/I/611d8eRL+4...</td>\n      <td>0</td>\n    </tr>\n    <tr>\n      <th>6</th>\n      <td>Chicbuy 15.6'' Laptop Computer, 8GB RAM Laptop...</td>\n      <td>Brand is Chicbuy. Model Name is LT1504. Screen...</td>\n      <td>https://www.amazon.com/Chicbuy-Computer-Proces...</td>\n      <td>https://m.media-amazon.com/images/I/71Ezvxd+ui...</td>\n      <td>0</td>\n    </tr>\n    <tr>\n      <th>7</th>\n      <td>INHONLAP Laptops, 15.6\" FHD IPS Display Laptop...</td>\n      <td>Brand is INHONLAP. Model Name is N15. Screen S...</td>\n      <td>https://www.amazon.com/INHONLAP-Computers-Quad...</td>\n      <td>https://m.media-amazon.com/images/I/71TwgF7rw8...</td>\n      <td>0</td>\n    </tr>\n    <tr>\n      <th>8</th>\n      <td>URAO 15.6'' Laptop 8GB DDR4 256GB SSD, Quad-Co...</td>\n      <td>Brand is URAO. Model Name is LT1504. Screen Si...</td>\n      <td>https://www.amazon.com/URAO-Quad-Core-Processo...</td>\n      <td>https://m.media-amazon.com/images/I/81O3TvrFnU...</td>\n      <td>0</td>\n    </tr>\n    <tr>\n      <th>9</th>\n      <td>2021 Newest ASUS VivoBook Ultra Thin and Light...</td>\n      <td>Brand is ASUS. Model Name is ASUS VivoBook. Sc...</td>\n      <td>https://www.amazon.com/ASUS-Touchscreen-Quad-C...</td>\n      <td>https://m.media-amazon.com/images/I/71K5Hmg7jM...</td>\n      <td>0</td>\n    </tr>\n  </tbody>\n</table>\n</div>"
     },
     "execution_count": 112,
     "metadata": {},
     "output_type": "execute_result"
    }
   ],
   "source": [
    "similar_products_df.reset_index(inplace=True, drop=True)\n",
    "similar_products_df"
   ],
   "metadata": {
    "collapsed": false,
    "ExecuteTime": {
     "end_time": "2024-05-08T13:17:18.976857500Z",
     "start_time": "2024-05-08T13:17:18.898178300Z"
    }
   },
   "id": "188acd6cc4d97f5e"
  },
  {
   "cell_type": "code",
   "execution_count": 87,
   "outputs": [],
   "source": [
    "model = SentenceTransformer('multi-qa-MiniLM-L6-cos-v1')  #'msmarco-distilbert-base-v4'"
   ],
   "metadata": {
    "collapsed": false,
    "ExecuteTime": {
     "end_time": "2024-05-08T12:38:01.118668300Z",
     "start_time": "2024-05-08T12:37:57.291016Z"
    }
   },
   "id": "6548aecf2011d4c1"
  },
  {
   "cell_type": "code",
   "execution_count": 89,
   "outputs": [
    {
     "data": {
      "text/plain": "\". Intel Strong Quad-Core: High-performance Intel J4125 processor, running fast, fast processing, multiple programs free switch. Processor main frequency up to 2.7 GHz.. FINGERPRINT READER: B15 laptop comes with convenient fingerprint reader. Strengthen the protection of personal privacy and information security.. FULL-SIZE BACKLIT KEYBOARDB15 laptop has a full-size keyboard with backlight, improves the convenience of input, the independent numeric keypad makes input even quick and convenient. Press Fn+F5 at the same time to turn on the backlit keyboard.. 12GB DDR4 and 256GB SSD: The laptop runs with 12 GB DDR4 dual-channel RAM, which can greatly improve the system response speed. 256GB SSD much faster than traditional mechanical hard disk, provides fast reading and writing experience.. FULL HD SCREEN: B15 has a 15.6 inch 1920*1080 Full HD IPS display with 5.9mm narrow bezels, you'll enjoy more screen real estate and less clutter.\""
     },
     "execution_count": 89,
     "metadata": {},
     "output_type": "execute_result"
    }
   ],
   "source": [
    "current_product_data = similar_products_df.iloc[0]['product_overview']\n",
    "current_product_data"
   ],
   "metadata": {
    "collapsed": false,
    "ExecuteTime": {
     "end_time": "2024-05-08T12:40:12.846556500Z",
     "start_time": "2024-05-08T12:40:12.815115400Z"
    }
   },
   "id": "9b5f15f7cbbabffd"
  },
  {
   "cell_type": "code",
   "execution_count": 121,
   "outputs": [],
   "source": [
    "def similarity_scores(similar_products_df, current_product_data):\n",
    "    \n",
    "    for i in range(1, len(similar_products_df)):\n",
    "        text_1 = model.encode(similar_products_df.iloc[i]['product_overview'])\n",
    "        base_text = model.encode(current_product_data)\n",
    "        score = cosine_similarity([text_1], [base_text])[0][0]\n",
    "        similar_products_df.loc[i, 'similarity_score'] = score\n",
    "    \n",
    "    sorted_similar_products_df = similar_products_df.sort_values('similarity_score',\n",
    "                                                                 ascending=False).reset_index(drop=True)\n",
    "    \n",
    "    return sorted_similar_products_df"
   ],
   "metadata": {
    "collapsed": false,
    "ExecuteTime": {
     "end_time": "2024-05-08T13:21:10.683847600Z",
     "start_time": "2024-05-08T13:21:10.636047400Z"
    }
   },
   "id": "5597707578b8dfc8"
  },
  {
   "cell_type": "code",
   "execution_count": 122,
   "outputs": [
    {
     "data": {
      "text/plain": "                                        product_name  \\\n0  OTVOC Laptop 15.6 inch Windows 11, VocBook 15,...   \n1  Chicbuy 15.6'' Laptop Computer, 8GB RAM Laptop...   \n2  Lenovo Ideapad Laptop (2024) Business Student,...   \n3  2021 Newest ASUS VivoBook Ultra Thin and Light...   \n4  2021 Newest ASUS VivoBook Ultra Thin and Light...   \n5  Oemgenuine Lenovo ThinkPad E16, WUXGA 16\" IPS,...   \n6  INHONLAP Laptops, 15.6\" FHD IPS Display Laptop...   \n7  URAO 15.6'' Laptop 8GB DDR4 256GB SSD, Quad-Co...   \n8  URAO 15.6'' Laptop 8GB DDR4 256GB SSD, Quad-Co...   \n9  VGKE [Windows 11 Home] B15 Windows 11 Laptop w...   \n\n                                    product_overview  \\\n0  . Intel 11th-Gen Quad core processor: With Cel...   \n1  Brand is Chicbuy. Model Name is LT1504. Screen...   \n2  Brand is Lenovo. Model Name is Newest Lenovo 1...   \n3  Brand is ASUS. Model Name is ASUS VivoBook. Sc...   \n4  Brand is ASUS. Model Name is ASUS VivoBook. Sc...   \n5  Brand is Oemgenuine. Model Name is ThinkPad E1...   \n6  Brand is INHONLAP. Model Name is N15. Screen S...   \n7  . Efficient Performance URAO laptop is equippe...   \n8  Brand is URAO. Model Name is LT1504. Screen Si...   \n9  . Intel Strong Quad-Core: High-performance Int...   \n\n                                        product_link  \\\n0  https://www.amazon.com/OTVOC-VocBook-15-Expans...   \n1  https://www.amazon.com/Chicbuy-Computer-Proces...   \n2  https://www.amazon.com/Lenovo-Laptop-14-HD-Mar...   \n3  https://www.amazon.com/ASUS-Touchscreen-Quad-C...   \n4  https://www.amazon.com/ASUS-Touchscreen-Quad-C...   \n5  https://www.amazon.com/Oemgenuine-ThinkPad-E16...   \n6  https://www.amazon.com/INHONLAP-Computers-Quad...   \n7  https://www.amazon.com/URAO-Quad-Core-Processo...   \n8  https://www.amazon.com/URAO-Quad-Core-Processo...   \n9  https://www.amazon.com/VGKE-B15-Fingerprint-Pr...   \n\n                                  product_image_link similarity_score  \n0  https://m.media-amazon.com/images/I/111mHoVK0k...          0.66444  \n1  https://m.media-amazon.com/images/I/71Ezvxd+ui...         0.596675  \n2  https://m.media-amazon.com/images/I/81UGIl1NGR...         0.562485  \n3  https://m.media-amazon.com/images/I/611d8eRL+4...         0.533611  \n4  https://m.media-amazon.com/images/I/71K5Hmg7jM...         0.533611  \n5  https://m.media-amazon.com/images/I/71vLLnhiMJ...          0.49122  \n6  https://m.media-amazon.com/images/I/71TwgF7rw8...           0.4415  \n7  https://m.media-amazon.com/images/I/11++B3A2NE...         0.399952  \n8  https://m.media-amazon.com/images/I/81O3TvrFnU...         0.375959  \n9  https://m.media-amazon.com/images/I/61MFntlabu...                0  ",
      "text/html": "<div>\n<style scoped>\n    .dataframe tbody tr th:only-of-type {\n        vertical-align: middle;\n    }\n\n    .dataframe tbody tr th {\n        vertical-align: top;\n    }\n\n    .dataframe thead th {\n        text-align: right;\n    }\n</style>\n<table border=\"1\" class=\"dataframe\">\n  <thead>\n    <tr style=\"text-align: right;\">\n      <th></th>\n      <th>product_name</th>\n      <th>product_overview</th>\n      <th>product_link</th>\n      <th>product_image_link</th>\n      <th>similarity_score</th>\n    </tr>\n  </thead>\n  <tbody>\n    <tr>\n      <th>0</th>\n      <td>OTVOC Laptop 15.6 inch Windows 11, VocBook 15,...</td>\n      <td>. Intel 11th-Gen Quad core processor: With Cel...</td>\n      <td>https://www.amazon.com/OTVOC-VocBook-15-Expans...</td>\n      <td>https://m.media-amazon.com/images/I/111mHoVK0k...</td>\n      <td>0.66444</td>\n    </tr>\n    <tr>\n      <th>1</th>\n      <td>Chicbuy 15.6'' Laptop Computer, 8GB RAM Laptop...</td>\n      <td>Brand is Chicbuy. Model Name is LT1504. Screen...</td>\n      <td>https://www.amazon.com/Chicbuy-Computer-Proces...</td>\n      <td>https://m.media-amazon.com/images/I/71Ezvxd+ui...</td>\n      <td>0.596675</td>\n    </tr>\n    <tr>\n      <th>2</th>\n      <td>Lenovo Ideapad Laptop (2024) Business Student,...</td>\n      <td>Brand is Lenovo. Model Name is Newest Lenovo 1...</td>\n      <td>https://www.amazon.com/Lenovo-Laptop-14-HD-Mar...</td>\n      <td>https://m.media-amazon.com/images/I/81UGIl1NGR...</td>\n      <td>0.562485</td>\n    </tr>\n    <tr>\n      <th>3</th>\n      <td>2021 Newest ASUS VivoBook Ultra Thin and Light...</td>\n      <td>Brand is ASUS. Model Name is ASUS VivoBook. Sc...</td>\n      <td>https://www.amazon.com/ASUS-Touchscreen-Quad-C...</td>\n      <td>https://m.media-amazon.com/images/I/611d8eRL+4...</td>\n      <td>0.533611</td>\n    </tr>\n    <tr>\n      <th>4</th>\n      <td>2021 Newest ASUS VivoBook Ultra Thin and Light...</td>\n      <td>Brand is ASUS. Model Name is ASUS VivoBook. Sc...</td>\n      <td>https://www.amazon.com/ASUS-Touchscreen-Quad-C...</td>\n      <td>https://m.media-amazon.com/images/I/71K5Hmg7jM...</td>\n      <td>0.533611</td>\n    </tr>\n    <tr>\n      <th>5</th>\n      <td>Oemgenuine Lenovo ThinkPad E16, WUXGA 16\" IPS,...</td>\n      <td>Brand is Oemgenuine. Model Name is ThinkPad E1...</td>\n      <td>https://www.amazon.com/Oemgenuine-ThinkPad-E16...</td>\n      <td>https://m.media-amazon.com/images/I/71vLLnhiMJ...</td>\n      <td>0.49122</td>\n    </tr>\n    <tr>\n      <th>6</th>\n      <td>INHONLAP Laptops, 15.6\" FHD IPS Display Laptop...</td>\n      <td>Brand is INHONLAP. Model Name is N15. Screen S...</td>\n      <td>https://www.amazon.com/INHONLAP-Computers-Quad...</td>\n      <td>https://m.media-amazon.com/images/I/71TwgF7rw8...</td>\n      <td>0.4415</td>\n    </tr>\n    <tr>\n      <th>7</th>\n      <td>URAO 15.6'' Laptop 8GB DDR4 256GB SSD, Quad-Co...</td>\n      <td>. Efficient Performance URAO laptop is equippe...</td>\n      <td>https://www.amazon.com/URAO-Quad-Core-Processo...</td>\n      <td>https://m.media-amazon.com/images/I/11++B3A2NE...</td>\n      <td>0.399952</td>\n    </tr>\n    <tr>\n      <th>8</th>\n      <td>URAO 15.6'' Laptop 8GB DDR4 256GB SSD, Quad-Co...</td>\n      <td>Brand is URAO. Model Name is LT1504. Screen Si...</td>\n      <td>https://www.amazon.com/URAO-Quad-Core-Processo...</td>\n      <td>https://m.media-amazon.com/images/I/81O3TvrFnU...</td>\n      <td>0.375959</td>\n    </tr>\n    <tr>\n      <th>9</th>\n      <td>VGKE [Windows 11 Home] B15 Windows 11 Laptop w...</td>\n      <td>. Intel Strong Quad-Core: High-performance Int...</td>\n      <td>https://www.amazon.com/VGKE-B15-Fingerprint-Pr...</td>\n      <td>https://m.media-amazon.com/images/I/61MFntlabu...</td>\n      <td>0</td>\n    </tr>\n  </tbody>\n</table>\n</div>"
     },
     "execution_count": 122,
     "metadata": {},
     "output_type": "execute_result"
    }
   ],
   "source": [
    "sorted_similar_products_df = similarity_scores(similar_products_df, current_product_data)\n",
    "sorted_similar_products_df"
   ],
   "metadata": {
    "collapsed": false,
    "ExecuteTime": {
     "end_time": "2024-05-08T13:21:34.148272800Z",
     "start_time": "2024-05-08T13:21:27.768491800Z"
    }
   },
   "id": "4422f8676391db1e"
  },
  {
   "cell_type": "code",
   "execution_count": null,
   "outputs": [],
   "source": [],
   "metadata": {
    "collapsed": false
   },
   "id": "daac7e43653163a0"
  }
 ],
 "metadata": {
  "kernelspec": {
   "display_name": "Python 3",
   "language": "python",
   "name": "python3"
  },
  "language_info": {
   "codemirror_mode": {
    "name": "ipython",
    "version": 2
   },
   "file_extension": ".py",
   "mimetype": "text/x-python",
   "name": "python",
   "nbconvert_exporter": "python",
   "pygments_lexer": "ipython2",
   "version": "2.7.6"
  }
 },
 "nbformat": 4,
 "nbformat_minor": 5
}
