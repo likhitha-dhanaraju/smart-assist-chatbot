{
 "cells": [
  {
   "cell_type": "code",
   "execution_count": 4,
   "outputs": [],
   "source": [
    "import os\n",
    "import warnings\n",
    "import json\n",
    "\n",
    "warnings.filterwarnings(\"ignore\")"
   ],
   "metadata": {
    "collapsed": false,
    "ExecuteTime": {
     "end_time": "2024-05-18T16:55:56.065301300Z",
     "start_time": "2024-05-18T16:55:56.048365600Z"
    }
   },
   "id": "cc2eeb37f9e50f2f"
  },
  {
   "cell_type": "markdown",
   "source": [
    "## Review Summarizer"
   ],
   "metadata": {
    "collapsed": false
   },
   "id": "a85eb5a64a222200"
  },
  {
   "cell_type": "code",
   "execution_count": null,
   "outputs": [],
   "source": [
    "from transformers import pipeline\n",
    "summarizer = pipeline(\"summarization\", model=\"mabrouk/amazon-review-summarizer-bart\")\n"
   ],
   "metadata": {
    "collapsed": false
   },
   "id": "8ca4f512023f4c37"
  },
  {
   "cell_type": "code",
   "execution_count": 6,
   "outputs": [],
   "source": [
    "review_1 = \"\"\" I really like this book. It takes a step-by-step approach to introduce the reader to the IBM Q Experience, to the basics underlying quantum computing, and to the reality of the noise involved in the current machines. This introduction is technical and shows the user how to use the IBM system either directly through the GUI on their website or by running Python code on one's own machine. The text provides examples of small exercises to try and stimulates ideas of new things to try. The IBM Q Exp Qiskit software modules are identified and introduced - Terra, Aer, Ignis, and Aqua, as well as the backends that one can choose to do the computing. The book ends with two great chapters on quantum algorithms.\n",
    "\"\"\""
   ],
   "metadata": {
    "collapsed": false,
    "ExecuteTime": {
     "end_time": "2024-05-18T16:56:08.880566800Z",
     "start_time": "2024-05-18T16:56:08.870506600Z"
    }
   },
   "id": "148c5a9ad5b11ce2"
  },
  {
   "cell_type": "code",
   "execution_count": 17,
   "outputs": [
    {
     "name": "stdout",
     "output_type": "stream",
     "text": [
      "[{'summary_text': 'I really like this book. It takes a step-by-step approach to introduce the reader to the IBM Q Experience, to the basics underlying quantum computing, and to the reality of the noise involved in the current machines. The book ends with two great chapters on quantum algorithms.'}]\n"
     ]
    }
   ],
   "source": [
    "print(summarizer(review_1, min_length = 60))"
   ],
   "metadata": {
    "collapsed": false,
    "ExecuteTime": {
     "end_time": "2024-04-05T14:10:11.784761Z",
     "start_time": "2024-04-05T14:09:48.540810100Z"
    }
   },
   "id": "cb892bd12b4bdf52"
  },
  {
   "cell_type": "markdown",
   "source": [
    "### Saving the model"
   ],
   "metadata": {
    "collapsed": false
   },
   "id": "be551e849e91589f"
  },
  {
   "cell_type": "code",
   "execution_count": 2,
   "outputs": [],
   "source": [
    "output_dir = r\"C:\\Users\\likhi\\Documents\\02 Pycharm Datasets\\01 Master Thesis\\08 Review Data\\Saved Models\""
   ],
   "metadata": {
    "collapsed": false,
    "ExecuteTime": {
     "end_time": "2024-05-18T16:55:15.578325700Z",
     "start_time": "2024-05-18T16:55:15.549530800Z"
    }
   },
   "id": "aedb53bcd7a3d1fd"
  },
  {
   "cell_type": "code",
   "execution_count": null,
   "outputs": [],
   "source": [
    "summarizer.model.save_pretrained(os.path.join(output_dir, 'Review Summarisation'))\n",
    "summarizer.tokenizer.save_pretrained(os.path.join(output_dir, 'Review Summarisation'))"
   ],
   "metadata": {
    "collapsed": false
   },
   "id": "9d1d4d26179d6ab9"
  },
  {
   "cell_type": "markdown",
   "source": [
    "### Loading the model"
   ],
   "metadata": {
    "collapsed": false
   },
   "id": "7fbfa38b8fae26ee"
  },
  {
   "cell_type": "code",
   "execution_count": 5,
   "outputs": [],
   "source": [
    "from transformers import AutoModelForSeq2SeqLM, AutoTokenizer, pipeline\n",
    "\n",
    "# Load the model from the saved directory\n",
    "model = AutoModelForSeq2SeqLM.from_pretrained(os.path.join(output_dir, 'Review Summarisation'))\n",
    "tokenizer = AutoTokenizer.from_pretrained(os.path.join(output_dir, 'Review Summarisation'))\n",
    "\n",
    "# Create a new pipeline with the loaded model\n",
    "loaded_summarizer = pipeline(\"summarization\", model=model, tokenizer=tokenizer)"
   ],
   "metadata": {
    "collapsed": false,
    "ExecuteTime": {
     "end_time": "2024-05-18T16:56:08.865349Z",
     "start_time": "2024-05-18T16:56:00.738421600Z"
    }
   },
   "id": "e06335831ed76332"
  },
  {
   "cell_type": "code",
   "execution_count": 7,
   "outputs": [
    {
     "name": "stdout",
     "output_type": "stream",
     "text": [
      "[{'summary_text': 'I really like this book. It takes a step-by-step approach to introduce the reader to the IBM Q Experience, to the basics underlying quantum computing, and to the reality of the noise involved in the current machines. The book ends with two great chapters on quantum algorithms.'}]\n"
     ]
    }
   ],
   "source": [
    "print(loaded_summarizer(review_1, min_length = 60))"
   ],
   "metadata": {
    "collapsed": false,
    "ExecuteTime": {
     "end_time": "2024-05-18T16:56:33.936493100Z",
     "start_time": "2024-05-18T16:56:13.889972800Z"
    }
   },
   "id": "5ae9d634ef709d0a"
  },
  {
   "cell_type": "markdown",
   "source": [
    "### Testing with Reviews from a product"
   ],
   "metadata": {
    "collapsed": false
   },
   "id": "a41e9793b4def427"
  },
  {
   "cell_type": "code",
   "execution_count": 26,
   "outputs": [
    {
     "data": {
      "text/plain": "{'url': 'https://www.amazon.com/Womens-Shacket-Jackets-Shackets-Apricot/dp/B0B6412QWW',\n 'Title': 'Trendy Queen Womens Flannel Shacket Jacket Casual Plaid Wool Blend Button Down Long Sleeve Shirt Fall Clothes Outfits',\n 'Authors': '',\n 'variant_data': [],\n 'sku': 'B0B6412QWW',\n 'categories': ['Clothing, Shoes & Jewelry',\n  'Women',\n  'Clothing',\n  'Tops, Tees & Blouses',\n  'Blouses & Button-Down Shirts'],\n 'description': ['Material:100% Polyester fabric, high quality fabric,skin-friendly, soft and comfortable to wear, will keep your warm and fashion trendy in fall,spring and cold winter.',\n  'Feature:Soft fuzzy fabric, front button closure ,midweight feel for keeping warm all day,two buttoned chest pockets,long sleeves with button cuffs,plaid pattern,loose fit shacket, collared.This shacket is a must have in your closet!',\n  'Match: You can match this shirts with variety of tank tops, cami, bodysuit , jeans, denim shorts, jeggings, sneakers or boots to complete casual look.',\n  'Occasion:This Shacet jacket perfect for casual daily life,shopping, street wear, working, office, school,holiday, vacation, night out, outdoor etc,suitable for autumn, winter and spring.',\n  'Trendy Queen Womens flannel shacket jacket elevate your style with a touch of romance and a dash of sophistication!'],\n 'reviews': [{'header': 'Not thick. Not meant to wear by itself if it’s freezing outside',\n   'text': 'This jacket is AMAZING! It’s not too thick but it’s not paper thin either. It’s great to wear for fall or early spring. Amazing material. Does not feel rough. The one I received feels soft. Does not feel cheap. It’s a loose fit. I ordered a small and I’m usually a true small in everything. Note: cannot wear an XSmall and medium is too big for me. It hits mid thigh on me and 5 feet tall for reference. I hope this helps someone!Read more',\n   'stars': 5.0,\n   'date': 'Reviewed in the United States on November 15, 2023'},\n  {'header': 'Love it! Ordered another',\n   'text': 'My sister and I saw this on someone at a party and asked her where she got it from because we thought it looked so nice! We both ordered one and bought another because it is so cozy and stylish. At first I thought I’d have a problem because I’m short (5ft) but the length is just right for me. It’s warm but not too thick so I don’t know how long I can get away with wearing it as a jacket, but either way it will be in my wardrobe weekly. I am 130lbs and I got a medium which is perfect. My cousins are thinking of all getting one to wear for a Christmas card. I didn’t love the price, but it’s worth it, so get ahead and buy it!Read more',\n   'stars': 5.0,\n   'date': 'Reviewed in the United States on October 29, 2023'},\n  {'header': 'Super Cute! Better Than Expected',\n   'text': 'For reference I am 5\\'2\" and 125lbs and I got size small pink/grey color. I love it, but gave 4 stars because inside is a bit scratchy and the pockets don\\'t look like the picture. I washed it in cold and dried it on low with 2 fabric softeners and it\\'s not scratchy on the inside now, but not as soft as the outside! The outside fabric is very soft. It is a great thickness. Not flimsy. Collar lays nicely. When buttoned up the plaids match nicely! Perfect length to cover my backside. Will order more in other colors. I\\'m happy I got it! Hope this helps others decide.Read more',\n   'stars': 4.0,\n   'date': 'Reviewed in the United States on December 30, 2023'},\n  {'header': 'True to color, cozy',\n   'text': 'Over all its nice. I normally wear lge, I ordered xlge. I\\'m 5\\'4\" 140lb. It\\'s just long enough to cover behind (could be a tad longer) but over all comfortable,  color lines match. Depending on how it washes I might put tuck in to bring the sides in. The seams appear to be strong. NiceRead more',\n   'stars': 5.0,\n   'date': 'Reviewed in the United States on January 30, 2024'},\n  {'header': 'Love this',\n   'text': 'This is probably one of my favorite pieces in my closet. I wear it over and over again. Saw something similar in an expansive store, found it on amazing for 1/3 of the price and honestly wasn’t disappointed. It’s great quality. And soft and warm. It’s just been my go to outfit all the time. Highly recommend. If fits loose which is what I wanted. Super long and can wear with tightsRead more',\n   'stars': 5.0,\n   'date': 'Reviewed in the United States on January 23, 2024'},\n  {'header': 'Runs big and color/pattern not as depicted!',\n   'text': \"I saw some reviews say it ran big and others say it fitted well. I'm short and chubby. Bought this for Christmas pics but it was too big. Yes it's supposed to be oversized and I had planned to wear it like a jacket it but it was way too big. Sometimes women's larges aren't large enough so I really didn't thing it would be too big. I was wrong. It was too big all around and honestly, the color and pattern was  NOT the same as the pic. It was thick/heavy enough to be warm enough for most of the cool weather experienced in the south. I had plans to return in. It was too much money to be too big and not the color/pattern I intended to purchase. Luckily my mom liked it and she liked they fit. Otherwise I would have returned it in a heartbeatRead more\",\n   'stars': 3.0,\n   'date': 'Reviewed in the United States on December 2, 2023'},\n  {'header': 'Perfect Fall Shacket',\n   'text': 'This jacket is perfect! It is soft and very comfortable. I like that it is oversized. I followed the feedback of a lot of reviews on here and did go a size smaller. I normally am a medium and I got a small. It still has the oversized feel.Read more',\n   'stars': 5.0,\n   'date': 'Reviewed in the United States on January 10, 2024'},\n  {'header': 'Quality',\n   'text': 'Great quality and super thick. This will definitely keep you warm in the colder months. It is also super stylish and trendy! I bought this is 2 different colors!Read more',\n   'stars': 5.0,\n   'date': 'Reviewed in the United States on January 14, 2024'}],\n 'product_overview': {},\n 'product_details': {'Fabric type': '100% Polyester',\n  'Care instructions': 'Machine Wash',\n  'Origin': 'Imported',\n  'Package Dimensions :': '13.62 x 11.02 x 2.17 inches; 1.01 Pounds',\n  'Department :': 'Women',\n  'Date First Available :': 'July 8, 2022',\n  'ASIN :': 'B0B646LXTT'}}"
     },
     "execution_count": 26,
     "metadata": {},
     "output_type": "execute_result"
    }
   ],
   "source": [
    "product_file_path = r\"C:\\Users\\likhi\\Documents\\02 Pycharm Datasets\\01 Master Thesis\\04 Product Data\\Women's Fashion_Clothing\\Product_B0B6412QWW\\Product_B0B6412QWW.json\"\n",
    "\n",
    "product_data = json.load(open(product_file_path, 'r'))\n",
    "product_data"
   ],
   "metadata": {
    "collapsed": false,
    "ExecuteTime": {
     "end_time": "2024-04-05T14:18:09.079493200Z",
     "start_time": "2024-04-05T14:18:09.016585500Z"
    }
   },
   "id": "e3110e86cff37e78"
  },
  {
   "cell_type": "code",
   "execution_count": 27,
   "outputs": [
    {
     "data": {
      "text/plain": "'Title: Not thick. Not meant to wear by itself if it’s freezing outside. Text:This jacket is AMAZING! It’s not too thick but it’s not paper thin either. It’s great to wear for fall or early spring. Amazing material. Does not feel rough. The one I received feels soft. Does not feel cheap. It’s a loose fit. I ordered a small and I’m usually a true small in everything. Note: cannot wear an XSmall and medium is too big for me. It hits mid thigh on me and 5 feet tall for reference. I hope this helps someone!Read more. Title: Love it! Ordered another. Text:My sister and I saw this on someone at a party and asked her where she got it from because we thought it looked so nice! We both ordered one and bought another because it is so cozy and stylish. At first I thought I’d have a problem because I’m short (5ft) but the length is just right for me. It’s warm but not too thick so I don’t know how long I can get away with wearing it as a jacket, but either way it will be in my wardrobe weekly. I am 130lbs and I got a medium which is perfect. My cousins are thinking of all getting one to wear for a Christmas card. I didn’t love the price, but it’s worth it, so get ahead and buy it!Read more. Title: Super Cute! Better Than Expected. Text:For reference I am 5\\'2\" and 125lbs and I got size small pink/grey color. I love it, but gave 4 stars because inside is a bit scratchy and the pockets don\\'t look like the picture. I washed it in cold and dried it on low with 2 fabric softeners and it\\'s not scratchy on the inside now, but not as soft as the outside! The outside fabric is very soft. It is a great thickness. Not flimsy. Collar lays nicely. When buttoned up the plaids match nicely! Perfect length to cover my backside. Will order more in other colors. I\\'m happy I got it! Hope this helps others decide.Read more. Title: True to color, cozy. Text:Over all its nice. I normally wear lge, I ordered xlge. I\\'m 5\\'4\" 140lb. It\\'s just long enough to cover behind (could be a tad longer) but over all comfortable,  color lines match. Depending on how it washes I might put tuck in to bring the sides in. The seams appear to be strong. NiceRead more. Title: Love this. Text:This is probably one of my favorite pieces in my closet. I wear it over and over again. Saw something similar in an expansive store, found it on amazing for 1/3 of the price and honestly wasn’t disappointed. It’s great quality. And soft and warm. It’s just been my go to outfit all the time. Highly recommend. If fits loose which is what I wanted. Super long and can wear with tightsRead more. Title: Runs big and color/pattern not as depicted!. Text:I saw some reviews say it ran big and others say it fitted well. I\\'m short and chubby. Bought this for Christmas pics but it was too big. Yes it\\'s supposed to be oversized and I had planned to wear it like a jacket it but it was way too big. Sometimes women\\'s larges aren\\'t large enough so I really didn\\'t thing it would be too big. I was wrong. It was too big all around and honestly, the color and pattern was  NOT the same as the pic. It was thick/heavy enough to be warm enough for most of the cool weather experienced in the south. I had plans to return in. It was too much money to be too big and not the color/pattern I intended to purchase. Luckily my mom liked it and she liked they fit. Otherwise I would have returned it in a heartbeatRead more. Title: Perfect Fall Shacket. Text:This jacket is perfect! It is soft and very comfortable. I like that it is oversized. I followed the feedback of a lot of reviews on here and did go a size smaller. I normally am a medium and I got a small. It still has the oversized feel.Read more. Title: Quality. Text:Great quality and super thick. This will definitely keep you warm in the colder months. It is also super stylish and trendy! I bought this is 2 different colors!Read more'"
     },
     "execution_count": 27,
     "metadata": {},
     "output_type": "execute_result"
    }
   ],
   "source": [
    "\n",
    "product_data_reviews = [\"Title: \" + i['header'] + '. Text: ' + i['text'] \n",
    "                            for i in product_data['reviews']]\n",
    "product_data_reviews_text = '. '.join(product_data_reviews)\n",
    "product_data_reviews_text"
   ],
   "metadata": {
    "collapsed": false,
    "ExecuteTime": {
     "end_time": "2024-04-05T14:18:09.448692600Z",
     "start_time": "2024-04-05T14:18:09.417168200Z"
    }
   },
   "id": "31795b5bc9f6484e"
  },
  {
   "cell_type": "code",
   "execution_count": 25,
   "outputs": [
    {
     "name": "stdout",
     "output_type": "stream",
     "text": [
      "[{'summary_text': 'Super Cute and Comfortable, but runs big and color/pattern not the same as pictured. Love it! Love the price. Love the quality. Love that it’s not too thick. I’m happy I got it!'}]\n"
     ]
    }
   ],
   "source": [
    "print(loaded_summarizer(product_data_reviews_text, min_length = 50))"
   ],
   "metadata": {
    "collapsed": false,
    "ExecuteTime": {
     "end_time": "2024-04-05T14:18:00.451599100Z",
     "start_time": "2024-04-05T14:17:31.394575300Z"
    }
   },
   "id": "e76cdfa7c4b0028c"
  },
  {
   "cell_type": "code",
   "execution_count": null,
   "outputs": [],
   "source": [],
   "metadata": {
    "collapsed": false
   },
   "id": "653effbeb65cb6d6"
  }
 ],
 "metadata": {
  "kernelspec": {
   "display_name": "Python 3",
   "language": "python",
   "name": "python3"
  },
  "language_info": {
   "codemirror_mode": {
    "name": "ipython",
    "version": 2
   },
   "file_extension": ".py",
   "mimetype": "text/x-python",
   "name": "python",
   "nbconvert_exporter": "python",
   "pygments_lexer": "ipython2",
   "version": "2.7.6"
  }
 },
 "nbformat": 4,
 "nbformat_minor": 5
}
