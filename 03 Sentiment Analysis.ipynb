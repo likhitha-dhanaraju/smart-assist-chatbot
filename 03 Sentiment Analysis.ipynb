{
 "cells": [
  {
   "cell_type": "markdown",
   "source": [
    "## From ChatGPT"
   ],
   "metadata": {
    "collapsed": false
   },
   "id": "9b3aa55d6b7ae293"
  },
  {
   "cell_type": "code",
   "execution_count": null,
   "id": "initial_id",
   "metadata": {
    "collapsed": true
   },
   "outputs": [],
   "source": [
    "import json\n",
    "from datasets import Dataset\n",
    "\n",
    "# Step 1: Load JSON data\n",
    "with open(\"amazon_reviews.json\", \"r\") as file:\n",
    "    data = json.load(file)\n",
    "\n",
    "# Step 2: Preprocess data\n",
    "reviews = [entry[\"text\"] for entry in data]\n",
    "ratings = [entry[\"rating\"] for entry in data]\n",
    "sentiments = [\"positive\" if rating >= 4 else \"negative\" for rating in ratings]\n",
    "\n",
    "# Step 3: Tokenize text\n",
    "from transformers import AutoTokenizer\n",
    "\n",
    "tokenizer = AutoTokenizer.from_pretrained(\"bert-base-uncased\")\n",
    "tokenized_reviews = tokenizer(reviews, padding=True, truncation=True, return_tensors=\"pt\")\n",
    "\n",
    "# Step 4: Encode labels\n",
    "label_mapping = {\"positive\": 1, \"negative\": 0}\n",
    "encoded_labels = [label_mapping[sentiment] for sentiment in sentiments]\n",
    "\n",
    "# Step 5: Split dataset\n",
    "from sklearn.model_selection import train_test_split\n",
    "\n",
    "train_texts, val_texts, train_labels, val_labels = train_test_split(tokenized_reviews, encoded_labels, test_size=0.2, random_state=42)\n",
    "val_texts, test_texts, val_labels, test_labels = train_test_split(val_texts, val_labels, test_size=0.5, random_state=42)\n",
    "\n",
    "# Step 6: Create Dataset objects\n",
    "train_dataset = Dataset.from_dict({\"input_ids\": train_texts[\"input_ids\"], \"attention_mask\": train_texts[\"attention_mask\"], \"labels\": train_labels})\n",
    "val_dataset = Dataset.from_dict({\"input_ids\": val_texts[\"input_ids\"], \"attention_mask\": val_texts[\"attention_mask\"], \"labels\": val_labels})\n",
    "test_dataset = Dataset.from_dict({\"input_ids\": test_texts[\"input_ids\"], \"attention_mask\": test_texts[\"attention_mask\"], \"labels\": test_labels})\n",
    "\n",
    "# Step 7: Save dataset\n",
    "train_dataset.save_to_disk(\"train_dataset\")\n",
    "val_dataset.save_to_disk(\"val_dataset\")\n",
    "test_dataset.save_to_disk(\"test_dataset\")\n"
   ]
  }
 ],
 "metadata": {
  "kernelspec": {
   "display_name": "Python 3",
   "language": "python",
   "name": "python3"
  },
  "language_info": {
   "codemirror_mode": {
    "name": "ipython",
    "version": 2
   },
   "file_extension": ".py",
   "mimetype": "text/x-python",
   "name": "python",
   "nbconvert_exporter": "python",
   "pygments_lexer": "ipython2",
   "version": "2.7.6"
  }
 },
 "nbformat": 4,
 "nbformat_minor": 5
}
