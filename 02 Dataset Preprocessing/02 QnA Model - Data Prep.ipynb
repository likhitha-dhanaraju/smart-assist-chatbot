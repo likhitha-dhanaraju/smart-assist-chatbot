{
 "cells": [
  {
   "cell_type": "code",
   "execution_count": null,
   "outputs": [],
   "source": [
    "## getting data from the amazon ask questions section - https://www.amazon.com/ask/questions/asin/B0C6KC23JH/\n",
    "## frame questions based on the attributes of the product"
   ],
   "metadata": {
    "collapsed": false
   },
   "id": "d974620d9e46dc0"
  },
  {
   "cell_type": "markdown",
   "source": [
    "# Data Preparation for QnA model"
   ],
   "metadata": {
    "collapsed": false
   },
   "id": "87b49486592a37a1"
  },
  {
   "cell_type": "markdown",
   "source": [
    "## Installing and Importing Libraries"
   ],
   "metadata": {
    "collapsed": false
   },
   "id": "dcd540d059f85576"
  },
  {
   "cell_type": "code",
   "execution_count": 2,
   "outputs": [],
   "source": [
    "import os\n",
    "import json\n",
    "\n",
    "import warnings\n",
    "warnings.filterwarnings(\"ignore\")\n",
    "\n",
    "# Optionally, you can reset the warning filters later if needed\n",
    "# warnings.resetwarnings()"
   ],
   "metadata": {
    "collapsed": false,
    "ExecuteTime": {
     "end_time": "2024-03-26T18:55:17.190650500Z",
     "start_time": "2024-03-26T18:55:17.168059900Z"
    }
   },
   "id": "eb8d7b000ed6d05d"
  },
  {
   "cell_type": "code",
   "execution_count": 10,
   "outputs": [],
   "source": [
    "data_folder = r\"C:\\\\Users\\\\likhi\\\\Documents\\\\02 Pycharm Datasets\\\\01 Master Thesis\\\\04 Product Data\\\\\""
   ],
   "metadata": {
    "collapsed": false,
    "ExecuteTime": {
     "end_time": "2024-03-18T15:28:39.584654900Z",
     "start_time": "2024-03-18T15:28:39.537685400Z"
    }
   },
   "id": "ba915a6d5e3dd66d"
  },
  {
   "cell_type": "markdown",
   "source": [
    "### Paraphrasing example - T5-BASE"
   ],
   "metadata": {
    "collapsed": false
   },
   "id": "b2f3f23cee255b48"
  },
  {
   "cell_type": "code",
   "execution_count": 5,
   "outputs": [
    {
     "name": "stderr",
     "output_type": "stream",
     "text": [
      "Special tokens have been added in the vocabulary, make sure the associated word embeddings are fine-tuned or trained.\n"
     ]
    },
    {
     "name": "stdout",
     "output_type": "stream",
     "text": [
      "Original Text: The quick brown fox jumps over the lazy dog.\n",
      "Paraphrased Text: The quick brown fox jumps over the lazy dog.\n"
     ]
    }
   ],
   "source": [
    "import torch\n",
    "from transformers import T5ForConditionalGeneration, T5Tokenizer\n",
    "\n",
    "# Load the pretrained T5 model and tokenizer\n",
    "model_name = \"t5-base\"\n",
    "model = T5ForConditionalGeneration.from_pretrained(model_name)\n",
    "tokenizer = T5Tokenizer.from_pretrained(model_name)\n",
    "\n",
    "def paraphrase_text(input_text):\n",
    "    # Tokenize the input text\n",
    "    input_ids = tokenizer.encode(input_text, return_tensors=\"pt\", max_length=512, truncation=True)\n",
    "\n",
    "    # Generate paraphrased text with max_length = 1024\n",
    "    output_ids = model.generate(input_ids, \n",
    "                                 max_length=4096,\n",
    "                                 num_return_sequences=1, \n",
    "                                 num_beams=4, \n",
    "                                 early_stopping=True)\n",
    "\n",
    "    # Decode the generated output\n",
    "    paraphrased_text = tokenizer.decode(output_ids[0], skip_special_tokens=True)\n",
    "    return paraphrased_text\n",
    "\n",
    "# Example input text\n",
    "input_text = \"The quick brown fox jumps over the lazy dog.\"\n",
    "\n",
    "# Paraphrase the input text\n",
    "paraphrased_text = paraphrase_text(input_text)\n",
    "\n",
    "print(\"Original Text:\", input_text)\n",
    "print(\"Paraphrased Text:\", paraphrased_text)\n"
   ],
   "metadata": {
    "collapsed": false,
    "ExecuteTime": {
     "end_time": "2024-03-26T18:58:48.299423800Z",
     "start_time": "2024-03-26T18:58:41.266963300Z"
    }
   },
   "id": "307e251f61ee1252"
  },
  {
   "cell_type": "code",
   "execution_count": 7,
   "outputs": [
    {
     "name": "stdout",
     "output_type": "stream",
     "text": [
      "Original Text: Magnetic Phone Mount for Car Dashboard: Easily dock your phone to your dashboard with a sleek and compact design using Steelie magnetic mounting technology. Universal Phone Holder: This holder has a 3M VHB adhesive backing on the socket and dash mount to aid a secure hold to the phone and dashboard. Adjustable Cell Phone Angles: The car dashboard mount features a steel ball that works with the phone socket, allowing you to tilt your phone smoothly. Phone Holder with Powerful Magnet: The neodymium magnet and silicone center create a strong grip for safe use even when driving on bumpy roads. About Nite Ize: Our inventor-driven products organize your life, protect your gear, light your way, and creatively solve everyday problems; every product is backed by our Worry Free Guarantee\n",
      "**************************************************\n",
      "Paraphrased Text: has a 3m vhb adhesive backing on the socket and dash mount to aid a secure hold to the phone and dashboard. car dashboard phone holder with powerful magnet: the neodymium magnet and silicone center create a strong grip for safe use even when driving on bumpy roads. about nite ize: our inventor-driven products organize your life, protect your gear, light your way, and creatively solve everyday problems; every product is backed by our worry free guarantee; every product is backed\n"
     ]
    }
   ],
   "source": [
    "input_text_2 = \"Magnetic Phone Mount for Car Dashboard: Easily dock your phone to your dashboard with a sleek and compact design using Steelie magnetic mounting technology. Universal Phone Holder: This holder has a 3M VHB adhesive backing on the socket and dash mount to aid a secure hold to the phone and dashboard. Adjustable Cell Phone Angles: The car dashboard mount features a steel ball that works with the phone socket, allowing you to tilt your phone smoothly. Phone Holder with Powerful Magnet: The neodymium magnet and silicone center create a strong grip for safe use even when driving on bumpy roads. About Nite Ize: Our inventor-driven products organize your life, protect your gear, light your way, and creatively solve everyday problems; every product is backed by our Worry Free Guarantee\"\n",
    "\n",
    "\n",
    "# Paraphrase the input text\n",
    "paraphrased_text = paraphrase_text(input_text_2.lower())\n",
    "\n",
    "print(\"Original Text:\", input_text_2)\n",
    "print(\"*\"*50)\n",
    "print(\"Paraphrased Text:\", paraphrased_text)\n"
   ],
   "metadata": {
    "collapsed": false,
    "ExecuteTime": {
     "end_time": "2024-03-26T19:00:13.439279Z",
     "start_time": "2024-03-26T19:00:00.342419400Z"
    }
   },
   "id": "8c94bd9d9522f477"
  },
  {
   "cell_type": "code",
   "execution_count": null,
   "outputs": [],
   "source": [],
   "metadata": {
    "collapsed": false
   },
   "id": "124d7837df6259e9"
  }
 ],
 "metadata": {
  "kernelspec": {
   "display_name": "Python 3",
   "language": "python",
   "name": "python3"
  },
  "language_info": {
   "codemirror_mode": {
    "name": "ipython",
    "version": 2
   },
   "file_extension": ".py",
   "mimetype": "text/x-python",
   "name": "python",
   "nbconvert_exporter": "python",
   "pygments_lexer": "ipython2",
   "version": "2.7.6"
  }
 },
 "nbformat": 4,
 "nbformat_minor": 5
}
