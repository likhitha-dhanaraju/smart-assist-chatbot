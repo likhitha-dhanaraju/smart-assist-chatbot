{
 "cells": [
  {
   "cell_type": "code",
   "execution_count": null,
   "outputs": [],
   "source": [
    "## getting data from the amazon ask questions section - https://www.amazon.com/ask/questions/asin/B0C6KC23JH/\n",
    "## frame questions based on the attributes of the product"
   ],
   "metadata": {
    "collapsed": false
   },
   "id": "d974620d9e46dc0"
  },
  {
   "cell_type": "markdown",
   "source": [
    "# Data Preparation for QnA model"
   ],
   "metadata": {
    "collapsed": false
   },
   "id": "87b49486592a37a1"
  },
  {
   "cell_type": "markdown",
   "source": [
    "## Installing and Importing Libraries"
   ],
   "metadata": {
    "collapsed": false
   },
   "id": "dcd540d059f85576"
  },
  {
   "cell_type": "code",
   "execution_count": 14,
   "outputs": [],
   "source": [
    "import os\n",
    "import json\n",
    "from selenium import webdriver\n",
    "from bs4 import BeautifulSoup\n",
    "\n",
    "import warnings\n",
    "warnings.filterwarnings(\"ignore\")"
   ],
   "metadata": {
    "collapsed": false,
    "ExecuteTime": {
     "end_time": "2024-03-18T15:34:57.717327Z",
     "start_time": "2024-03-18T15:34:57.470160Z"
    }
   },
   "id": "eb8d7b000ed6d05d"
  },
  {
   "cell_type": "code",
   "execution_count": 10,
   "outputs": [],
   "source": [
    "data_folder = r\"C:\\\\Users\\\\likhi\\\\Documents\\\\02 Pycharm Datasets\\\\01 Master Thesis\\\\04 Product Data\\\\\""
   ],
   "metadata": {
    "collapsed": false,
    "ExecuteTime": {
     "end_time": "2024-03-18T15:28:39.584654900Z",
     "start_time": "2024-03-18T15:28:39.537685400Z"
    }
   },
   "id": "ba915a6d5e3dd66d"
  },
  {
   "cell_type": "code",
   "execution_count": null,
   "outputs": [],
   "source": [],
   "metadata": {
    "collapsed": false
   },
   "id": "307e251f61ee1252"
  },
  {
   "cell_type": "code",
   "execution_count": null,
   "outputs": [],
   "source": [],
   "metadata": {
    "collapsed": false
   },
   "id": "8c94bd9d9522f477"
  }
 ],
 "metadata": {
  "kernelspec": {
   "display_name": "Python 3",
   "language": "python",
   "name": "python3"
  },
  "language_info": {
   "codemirror_mode": {
    "name": "ipython",
    "version": 2
   },
   "file_extension": ".py",
   "mimetype": "text/x-python",
   "name": "python",
   "nbconvert_exporter": "python",
   "pygments_lexer": "ipython2",
   "version": "2.7.6"
  }
 },
 "nbformat": 4,
 "nbformat_minor": 5
}
