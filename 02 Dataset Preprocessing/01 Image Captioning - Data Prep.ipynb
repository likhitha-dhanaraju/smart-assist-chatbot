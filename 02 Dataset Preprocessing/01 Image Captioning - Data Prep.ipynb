{
 "cells": [
  {
   "cell_type": "markdown",
   "source": [
    "# Data Preparation for Image Captioning models"
   ],
   "metadata": {
    "collapsed": false
   },
   "id": "e2d70a72a5068f31"
  },
  {
   "cell_type": "markdown",
   "source": [
    "## Installing and Importing libraries"
   ],
   "metadata": {
    "collapsed": false
   },
   "id": "775b91bb1d8d37bb"
  },
  {
   "cell_type": "code",
   "execution_count": 1,
   "id": "initial_id",
   "metadata": {
    "collapsed": true,
    "ExecuteTime": {
     "end_time": "2024-03-17T17:52:44.628659200Z",
     "start_time": "2024-03-17T17:52:42.816542400Z"
    }
   },
   "outputs": [],
   "source": [
    "import os\n",
    "import json\n",
    "from tqdm import tqdm\n",
    "import shutil\n",
    "import string\n",
    "import pandas as pd\n",
    "import multiprocessing\n",
    "\n",
    "import warnings\n",
    "warnings.filterwarnings(\"ignore\")"
   ]
  },
  {
   "cell_type": "code",
   "execution_count": 5,
   "outputs": [],
   "source": [
    "data_folder = r\"C:\\\\Users\\\\likhi\\\\Documents\\\\02 Pycharm Datasets\\\\01 Master Thesis\\\\04 Product Data\""
   ],
   "metadata": {
    "collapsed": false,
    "ExecuteTime": {
     "end_time": "2024-03-17T17:54:07.466680900Z",
     "start_time": "2024-03-17T17:54:07.416115300Z"
    }
   },
   "id": "fd20530d7f3df1a0"
  },
  {
   "cell_type": "code",
   "execution_count": null,
   "outputs": [],
   "source": [],
   "metadata": {
    "collapsed": false
   },
   "id": "15fe9f8f4f899f9a"
  },
  {
   "cell_type": "markdown",
   "source": [
    "## Loading the dataset"
   ],
   "metadata": {
    "collapsed": false
   },
   "id": "9814f9fcc5749c67"
  },
  {
   "cell_type": "markdown",
   "source": [
    "### Loading the text data"
   ],
   "metadata": {
    "collapsed": false
   },
   "id": "a708e0670f0c3991"
  },
  {
   "cell_type": "code",
   "execution_count": 4,
   "outputs": [],
   "source": [
    "def clean_descriptions(desc):\n",
    "    table = str.maketrans('', '', string.punctuation)\n",
    "    desc = desc.split(' ')\n",
    "    desc = [word.lower() for word in desc]\n",
    "    desc = [w.translate(table) for w in desc]\n",
    "    desc = [word for word in desc if len(word)>1]\n",
    "    desc = ' '.join(desc)\n",
    "    \n",
    "    return desc"
   ],
   "metadata": {
    "collapsed": false,
    "ExecuteTime": {
     "end_time": "2024-03-17T16:29:30.801222100Z",
     "start_time": "2024-03-17T16:29:30.744542300Z"
    }
   },
   "id": "2e4784f44a294a9b"
  },
  {
   "cell_type": "code",
   "execution_count": 5,
   "outputs": [
    {
     "name": "stderr",
     "output_type": "stream",
     "text": [
      "100%|██████████| 265/265 [12:17<00:00,  2.78s/it]\n"
     ]
    }
   ],
   "source": [
    "dataset_list = []\n",
    "\n",
    "all_product_names = []\n",
    "\n",
    "for category_folder in tqdm(os.listdir(data_folder)):\n",
    "    category_path = os.path.join(data_folder, category_folder)\n",
    "    for product_folder in os.listdir(category_path):\n",
    "        \n",
    "        if product_folder not in all_product_names:                     \n",
    "            all_product_names.append(product_folder)\n",
    "            \n",
    "            product_path = os.path.join(category_path, product_folder)\n",
    "            \n",
    "            if len(os.listdir(product_path)) > 1:\n",
    "                try:\n",
    "                    data = json.load(open(os.path.join(product_path, product_folder + \".json\"), \"r\"))\n",
    "                    product_overview = data['product_overview']\n",
    "                    product_overview = \",\".join([key + \" is \" + value for key,value in product_overview.items() \n",
    "                                        if key.lower() not in ['color', 'colour']])\n",
    "                    product_description = \",\".join(data['description'])\n",
    "                    categories = \",\".join(data['categories'])\n",
    "                    product_title = data['Title']\n",
    "                    final_description = product_title + categories + product_description + product_overview\n",
    "                    \n",
    "                    cleaned_final_description = clean_descriptions(final_description)\n",
    "                    \n",
    "                    image_names = [i for i in os.listdir(product_path) if '.jpg' in i]\n",
    "    \n",
    "                    if len(cleaned_final_description) > 0:\n",
    "                        for img in image_names:\n",
    "                             \n",
    "                            product_dict = {}  # Create a new dictionary for each iteration\n",
    "                            product_dict[\"file_name\"] = img\n",
    "                            product_dict[\"text\"] = cleaned_final_description\n",
    "                            \n",
    "                            dataset_list.append(product_dict)  # Append the new dictionary to the list\n",
    "                    \n",
    "                except:\n",
    "                    continue\n"
   ],
   "metadata": {
    "collapsed": false,
    "ExecuteTime": {
     "end_time": "2024-03-17T16:41:51.158001600Z",
     "start_time": "2024-03-17T16:29:33.624457800Z"
    }
   },
   "id": "6d1cb220c202db49"
  },
  {
   "cell_type": "markdown",
   "source": [
    "### Checking if the metadata is unique"
   ],
   "metadata": {
    "collapsed": false
   },
   "id": "feee288ca9103190"
  },
  {
   "cell_type": "code",
   "execution_count": 6,
   "outputs": [
    {
     "data": {
      "text/plain": "918816"
     },
     "execution_count": 6,
     "metadata": {},
     "output_type": "execute_result"
    }
   ],
   "source": [
    "len(dataset_list)"
   ],
   "metadata": {
    "collapsed": false,
    "ExecuteTime": {
     "end_time": "2024-03-17T16:42:02.171710800Z",
     "start_time": "2024-03-17T16:42:02.121891500Z"
    }
   },
   "id": "6ab2d4dd2264cbc4"
  },
  {
   "cell_type": "code",
   "execution_count": 7,
   "outputs": [
    {
     "name": "stdout",
     "output_type": "stream",
     "text": [
      "918816\n"
     ]
    }
   ],
   "source": [
    "from more_itertools import unique_everseen\n",
    "\n",
    "# Remove duplicates from the list of dictionaries\n",
    "unique_dicts = list(unique_everseen(dataset_list, key=lambda d: tuple(d.items())))\n",
    "\n",
    "print(len(unique_dicts))"
   ],
   "metadata": {
    "collapsed": false,
    "ExecuteTime": {
     "end_time": "2024-03-17T16:42:08.797125500Z",
     "start_time": "2024-03-17T16:42:04.689598900Z"
    }
   },
   "id": "4cace68d3bec1746"
  },
  {
   "cell_type": "code",
   "execution_count": 8,
   "outputs": [
    {
     "name": "stdout",
     "output_type": "stream",
     "text": [
      "918816\n",
      "Product_043945669X_0.jpg      1\n",
      "Product_B09Z2W76SM_5.jpg      1\n",
      "Product_B09Z641MYY_2.jpg      1\n",
      "Product_B09Z641MYY_3.jpg      1\n",
      "Product_B09Z641MYY_4.jpg      1\n",
      "                             ..\n",
      "Product_B07WRSCDZN_109.jpg    1\n",
      "Product_B07WRSCDZN_11.jpg     1\n",
      "Product_B07WRSCDZN_110.jpg    1\n",
      "Product_B07WRSCDZN_111.jpg    1\n",
      "Product_B0CV7L1DHH_5.jpg      1\n",
      "Name: count, Length: 918816, dtype: int64\n"
     ]
    }
   ],
   "source": [
    "unique_filenames = [i['file_name'] for i in unique_dicts]\n",
    "print(len(unique_filenames))\n",
    "print(pd.DataFrame(unique_filenames).value_counts())"
   ],
   "metadata": {
    "collapsed": false,
    "ExecuteTime": {
     "end_time": "2024-03-17T16:42:19.058455500Z",
     "start_time": "2024-03-17T16:42:11.778191700Z"
    }
   },
   "id": "b430552e8c91b89f"
  },
  {
   "cell_type": "markdown",
   "source": [
    "#### Saving the metadata json file"
   ],
   "metadata": {
    "collapsed": false
   },
   "id": "cba1b690ae9bd591"
  },
  {
   "cell_type": "code",
   "execution_count": 4,
   "outputs": [],
   "source": [
    "destination_image_dir = r\"C:\\\\Users\\\\likhi\\\\Documents\\\\02 Pycharm Datasets\\\\01 Master Thesis\\\\06 Image_Captioning_Dataset\\\\imagefolder\\\\train\\\\\""
   ],
   "metadata": {
    "collapsed": false,
    "ExecuteTime": {
     "end_time": "2024-03-17T17:53:48.984704400Z",
     "start_time": "2024-03-17T17:53:48.936220900Z"
    }
   },
   "id": "2b99f50aafa26f4"
  },
  {
   "cell_type": "code",
   "execution_count": 13,
   "outputs": [],
   "source": [
    "with open(destination_image_dir + 'metadata.jsonl', 'w') as file:\n",
    "     file.write(json.dumps(dataset_list))"
   ],
   "metadata": {
    "collapsed": false,
    "ExecuteTime": {
     "start_time": "2024-03-17T16:43:30.589989600Z"
    }
   },
   "id": "1ee21e33fa794203"
  },
  {
   "cell_type": "code",
   "execution_count": null,
   "outputs": [],
   "source": [],
   "metadata": {
    "collapsed": false
   },
   "id": "4fc1b43b66df1eec"
  },
  {
   "cell_type": "markdown",
   "source": [
    "### Creating the image directory"
   ],
   "metadata": {
    "collapsed": false
   },
   "id": "295cab15abccce32"
  },
  {
   "cell_type": "markdown",
   "source": [
    "### Method 1"
   ],
   "metadata": {
    "collapsed": false
   },
   "id": "55fcff34a646904a"
  },
  {
   "cell_type": "code",
   "execution_count": null,
   "outputs": [
    {
     "name": "stderr",
     "output_type": "stream",
     "text": [
      " 24%|██▍       | 63/265 [14:00<1:50:24, 32.79s/it]"
     ]
    }
   ],
   "source": [
    "all_product_names_for_images = []\n",
    "\n",
    "if not os.path.exists(destination_image_dir):\n",
    "    os.mkdir(destination_image_dir)\n",
    "\t\n",
    "for category_folder in tqdm(os.listdir(data_folder)):\n",
    "    category_path = os.path.join(data_folder, category_folder)\n",
    "    for product_folder in os.listdir(category_path):\n",
    "        if product_folder not in all_product_names_for_images:                     \n",
    "            all_product_names_for_images.append(product_folder)\n",
    "            product_path = os.path.join(category_path, product_folder)\n",
    "            images = [i for i in os.listdir(product_path) if '.jpg' in i]\n",
    "            for img in images:\n",
    "                try:\n",
    "                    image_path = os.path.join(product_path, img)\n",
    "                    if not os.path.exists(os.path.join(destination_image_dir, img)):\n",
    "                        shutil.copy(image_path, os.path.join(destination_image_dir, img))\n",
    "                except OSError:\n",
    "                    print(\"Error with file\")"
   ],
   "metadata": {
    "collapsed": false,
    "is_executing": true,
    "ExecuteTime": {
     "start_time": "2024-03-17T17:13:08.507280300Z"
    }
   },
   "id": "b3551aa6372c4cd5"
  },
  {
   "cell_type": "markdown",
   "source": [
    "### Method 2"
   ],
   "metadata": {
    "collapsed": false
   },
   "id": "c831624791aaf19d"
  },
  {
   "cell_type": "code",
   "execution_count": null,
   "outputs": [
    {
     "name": "stderr",
     "output_type": "stream",
     "text": [
      " 38%|███▊      | 100/265 [03:56<02:38,  1.04it/s]"
     ]
    }
   ],
   "source": [
    "num_processes = multiprocessing.cpu_count()\n",
    "pool = multiprocessing.Pool(processes=num_processes)\n",
    "    \n",
    "all_product_names_for_images = []\n",
    "\n",
    "for category_folder in tqdm(os.listdir(data_folder)):\n",
    "    category_path = os.path.join(data_folder, category_folder)\n",
    "    for product_folder in os.listdir(category_path):\n",
    "        if product_folder not in all_product_names_for_images:                     \n",
    "            all_product_names_for_images.append(product_folder)\n",
    "            product_path = os.path.join(category_path, product_folder)\n",
    "            images = [i for i in os.listdir(product_path) if '.jpg' in i]\n",
    "            for img in images:\n",
    "                try:\n",
    "                    image_path = os.path.join(product_path, img)\n",
    "                    if not os.path.exists(os.path.join(destination_image_dir, img)):\n",
    "                        pool.apply_async(copy_file, args=(image_path, os.path.join(destination_image_dir, img)))\n",
    "                except OSError:\n",
    "                    print(\"Error with file\")"
   ],
   "metadata": {
    "collapsed": false,
    "is_executing": true,
    "ExecuteTime": {
     "start_time": "2024-03-17T17:55:42.834878100Z"
    }
   },
   "id": "e72800ef03b5417d"
  },
  {
   "cell_type": "code",
   "execution_count": 6,
   "outputs": [
    {
     "data": {
      "text/plain": "631170"
     },
     "execution_count": 6,
     "metadata": {},
     "output_type": "execute_result"
    }
   ],
   "source": [
    "len(os.listdir(destination_image_dir)) - 1"
   ],
   "metadata": {
    "collapsed": false,
    "ExecuteTime": {
     "end_time": "2024-03-17T17:55:36.803453700Z",
     "start_time": "2024-03-17T17:54:16.123430Z"
    }
   },
   "id": "be108af9786c8229"
  },
  {
   "cell_type": "code",
   "execution_count": null,
   "outputs": [],
   "source": [],
   "metadata": {
    "collapsed": false
   },
   "id": "6350cd93c02a8470"
  }
 ],
 "metadata": {
  "kernelspec": {
   "display_name": "Python 3",
   "language": "python",
   "name": "python3"
  },
  "language_info": {
   "codemirror_mode": {
    "name": "ipython",
    "version": 2
   },
   "file_extension": ".py",
   "mimetype": "text/x-python",
   "name": "python",
   "nbconvert_exporter": "python",
   "pygments_lexer": "ipython2",
   "version": "2.7.6"
  }
 },
 "nbformat": 4,
 "nbformat_minor": 5
}
